{
 "cells": [
  {
   "cell_type": "markdown",
   "metadata": {},
   "source": [
    "## Question 1:"
   ]
  },
  {
   "cell_type": "code",
   "execution_count": 64,
   "metadata": {},
   "outputs": [],
   "source": [
    "import numpy as np\n",
    "import gurobipy as gp\n",
    "import pandas as pd"
   ]
  },
  {
   "cell_type": "code",
   "execution_count": 65,
   "metadata": {},
   "outputs": [],
   "source": [
    "obj = np.array([4,5]) # objective vector\n",
    "A = np.zeros((1,2)) # initialize constraint matrix\n",
    "A[0,:] = [2,3] # production constraint\n",
    "\n",
    "b = np.array([60]) # limits on production, storage, and demand\n",
    "sense = np.array(['<'])"
   ]
  },
  {
   "cell_type": "code",
   "execution_count": 66,
   "metadata": {},
   "outputs": [],
   "source": [
    "ojModel = gp.Model() # initialize an empty model\n",
    "\n",
    "ojModX = ojModel.addMVar(2) # tell the model how many variables there are\n",
    "# must define the variables before adding constraints because variables go into the constraints\n",
    "ojModCon = ojModel.addMConstrs(A, ojModX, sense, b) # add the constraints to the model\n",
    "ojModel.setMObjective(None,obj,0,sense=gp.GRB.MAXIMIZE) # add the objective to the model...we'll talk about the None and the 0\n",
    "\n",
    "ojModel.Params.OutputFlag = 0 # tell gurobi to shut up!!"
   ]
  },
  {
   "cell_type": "code",
   "execution_count": 67,
   "metadata": {},
   "outputs": [],
   "source": [
    "ojModel.optimize()"
   ]
  },
  {
   "cell_type": "code",
   "execution_count": 68,
   "metadata": {},
   "outputs": [
    {
     "data": {
      "text/plain": [
       "120.0"
      ]
     },
     "execution_count": 68,
     "metadata": {},
     "output_type": "execute_result"
    }
   ],
   "source": [
    "ojModel.objVal"
   ]
  },
  {
   "cell_type": "code",
   "execution_count": 69,
   "metadata": {},
   "outputs": [
    {
     "data": {
      "text/plain": [
       "array([30.,  0.])"
      ]
     },
     "execution_count": 69,
     "metadata": {},
     "output_type": "execute_result"
    }
   ],
   "source": [
    "ojModX.x"
   ]
  },
  {
   "cell_type": "code",
   "execution_count": 70,
   "metadata": {},
   "outputs": [],
   "source": [
    "obj = np.array([4,5]) # objective vector\n",
    "A = np.zeros((2,2)) # initialize constraint matrix\n",
    "A[0,:] = [2,3] # production constraint\n",
    "A[1,:] = [1,-1]\n",
    "b = np.array([60,0]) # limits on production, storage, and demand\n",
    "sense = np.array(['<','<'])"
   ]
  },
  {
   "cell_type": "code",
   "execution_count": 71,
   "metadata": {},
   "outputs": [],
   "source": [
    "ojModel = gp.Model() # initialize an empty model\n",
    "\n",
    "ojModX = ojModel.addMVar(2) # tell the model how many variables there are\n",
    "# must define the variables before adding constraints because variables go into the constraints\n",
    "ojModCon = ojModel.addMConstrs(A, ojModX, sense, b) # add the constraints to the model\n",
    "ojModel.setMObjective(None,obj,0,sense=gp.GRB.MAXIMIZE) # add the objective to the model...we'll talk about the None and the 0\n",
    "\n",
    "ojModel.Params.OutputFlag = 0 # tell gurobi to shut up!!"
   ]
  },
  {
   "cell_type": "code",
   "execution_count": 72,
   "metadata": {},
   "outputs": [
    {
     "data": {
      "text/plain": [
       "108.0"
      ]
     },
     "execution_count": 72,
     "metadata": {},
     "output_type": "execute_result"
    }
   ],
   "source": [
    "ojModel.optimize()\n",
    "ojModel.objVal"
   ]
  },
  {
   "cell_type": "code",
   "execution_count": 73,
   "metadata": {},
   "outputs": [
    {
     "data": {
      "text/plain": [
       "array([12., 12.])"
      ]
     },
     "execution_count": 73,
     "metadata": {},
     "output_type": "execute_result"
    }
   ],
   "source": [
    "ojModX.x"
   ]
  },
  {
   "cell_type": "code",
   "execution_count": 74,
   "metadata": {},
   "outputs": [
    {
     "data": {
      "text/plain": [
       "12"
      ]
     },
     "execution_count": 74,
     "metadata": {},
     "output_type": "execute_result"
    }
   ],
   "source": [
    "#Decrease in points:\n",
    "\n",
    "120-108"
   ]
  },
  {
   "cell_type": "markdown",
   "metadata": {},
   "source": [
    "## Question 2:"
   ]
  },
  {
   "cell_type": "code",
   "execution_count": 75,
   "metadata": {},
   "outputs": [],
   "source": [
    "obj = np.array([2000,3000]) # objective vector\n",
    "A = np.zeros((3,2)) # initialize constraint matrix\n",
    "A[0,:] = [3,2] # workers constraint\n",
    "A[1,:] = [2,4] # fertilizer constraint\n",
    "A[2,:] = [1,1] # area constraint\n",
    "\n",
    "b = np.array([1000,1200,450]) # limits on production, storage, and demand\n",
    "sense = np.array(['<','<','<'])"
   ]
  },
  {
   "cell_type": "code",
   "execution_count": 76,
   "metadata": {},
   "outputs": [],
   "source": [
    "ojModel = gp.Model() # initialize an empty model\n",
    "\n",
    "ojModX = ojModel.addMVar(2) # tell the model how many variables there are\n",
    "# must define the variables before adding constraints because variables go into the constraints\n",
    "ojModCon = ojModel.addMConstrs(A, ojModX, sense, b) # add the constraints to the model\n",
    "ojModel.setMObjective(None,obj,0,sense=gp.GRB.MAXIMIZE) # add the objective to the model...we'll talk about the None and the 0\n",
    "\n",
    "ojModel.Params.OutputFlag = 0 # tell gurobi to shut up!!"
   ]
  },
  {
   "cell_type": "code",
   "execution_count": 77,
   "metadata": {},
   "outputs": [],
   "source": [
    "ojModel.optimize()"
   ]
  },
  {
   "cell_type": "code",
   "execution_count": 78,
   "metadata": {},
   "outputs": [
    {
     "data": {
      "text/plain": [
       "1000000.0"
      ]
     },
     "execution_count": 78,
     "metadata": {},
     "output_type": "execute_result"
    }
   ],
   "source": [
    "ojModel.objVal"
   ]
  },
  {
   "cell_type": "code",
   "execution_count": 79,
   "metadata": {},
   "outputs": [
    {
     "data": {
      "text/plain": [
       "array([200., 200.])"
      ]
     },
     "execution_count": 79,
     "metadata": {},
     "output_type": "execute_result"
    }
   ],
   "source": [
    "ojModX.x"
   ]
  },
  {
   "cell_type": "code",
   "execution_count": 80,
   "metadata": {},
   "outputs": [],
   "source": [
    "#When the availability of fertilizer varies from 200 tons to 2200 tons in 100-ton increments:\n",
    "\n",
    "profit = []\n",
    "wc = []\n",
    "\n",
    "for i in range(200,2201,100):\n",
    "    obj = np.array([2000,3000]) # objective vector\n",
    "    A = np.zeros((3,2)) # initialize constraint matrix\n",
    "    A[0,:] = [3,2] # workers constraint\n",
    "    A[1,:] = [2,4] # fertilizer constraint\n",
    "    A[2,:] = [1,1] # area constraint\n",
    "\n",
    "    b = np.array([1000,i,450]) # limits on production, storage, and demand\n",
    "    sense = np.array(['<','<','<'])\n",
    "    \n",
    "    ojModel = gp.Model() # initialize an empty model\n",
    "\n",
    "    ojModX = ojModel.addMVar(2) # tell the model how many variables there are\n",
    "    # must define the variables before adding constraints because variables go into the constraints\n",
    "    ojModCon = ojModel.addMConstrs(A, ojModX, sense, b) # add the constraints to the model\n",
    "    ojModel.setMObjective(None,obj,0,sense=gp.GRB.MAXIMIZE) # add the objective to the model...we'll talk about the None and the 0\n",
    "\n",
    "    ojModel.Params.OutputFlag = 0 # tell gurobi to shut up!!\n",
    "    \n",
    "    ojModel.optimize()\n",
    "    \n",
    "    profit.append(ojModel.objVal)\n",
    "    \n",
    "    wc.append(ojModX.x)"
   ]
  },
  {
   "cell_type": "code",
   "execution_count": 81,
   "metadata": {},
   "outputs": [],
   "source": [
    "table = pd.DataFrame(wc, columns = ['Wheat','Corn'])\n",
    "table['fertilizers'] = range(200,2201,100)\n",
    "table['profits'] = profit"
   ]
  },
  {
   "cell_type": "code",
   "execution_count": 82,
   "metadata": {},
   "outputs": [
    {
     "data": {
      "text/html": [
       "<div>\n",
       "<style scoped>\n",
       "    .dataframe tbody tr th:only-of-type {\n",
       "        vertical-align: middle;\n",
       "    }\n",
       "\n",
       "    .dataframe tbody tr th {\n",
       "        vertical-align: top;\n",
       "    }\n",
       "\n",
       "    .dataframe thead th {\n",
       "        text-align: right;\n",
       "    }\n",
       "</style>\n",
       "<table border=\"1\" class=\"dataframe\">\n",
       "  <thead>\n",
       "    <tr style=\"text-align: right;\">\n",
       "      <th></th>\n",
       "      <th>Wheat</th>\n",
       "      <th>Corn</th>\n",
       "      <th>fertilizers</th>\n",
       "      <th>profits</th>\n",
       "    </tr>\n",
       "  </thead>\n",
       "  <tbody>\n",
       "    <tr>\n",
       "      <th>0</th>\n",
       "      <td>100.0</td>\n",
       "      <td>0.0</td>\n",
       "      <td>200</td>\n",
       "      <td>200000.0</td>\n",
       "    </tr>\n",
       "    <tr>\n",
       "      <th>1</th>\n",
       "      <td>150.0</td>\n",
       "      <td>0.0</td>\n",
       "      <td>300</td>\n",
       "      <td>300000.0</td>\n",
       "    </tr>\n",
       "    <tr>\n",
       "      <th>2</th>\n",
       "      <td>200.0</td>\n",
       "      <td>0.0</td>\n",
       "      <td>400</td>\n",
       "      <td>400000.0</td>\n",
       "    </tr>\n",
       "    <tr>\n",
       "      <th>3</th>\n",
       "      <td>250.0</td>\n",
       "      <td>0.0</td>\n",
       "      <td>500</td>\n",
       "      <td>500000.0</td>\n",
       "    </tr>\n",
       "    <tr>\n",
       "      <th>4</th>\n",
       "      <td>300.0</td>\n",
       "      <td>0.0</td>\n",
       "      <td>600</td>\n",
       "      <td>600000.0</td>\n",
       "    </tr>\n",
       "    <tr>\n",
       "      <th>5</th>\n",
       "      <td>325.0</td>\n",
       "      <td>12.5</td>\n",
       "      <td>700</td>\n",
       "      <td>687500.0</td>\n",
       "    </tr>\n",
       "    <tr>\n",
       "      <th>6</th>\n",
       "      <td>300.0</td>\n",
       "      <td>50.0</td>\n",
       "      <td>800</td>\n",
       "      <td>750000.0</td>\n",
       "    </tr>\n",
       "    <tr>\n",
       "      <th>7</th>\n",
       "      <td>275.0</td>\n",
       "      <td>87.5</td>\n",
       "      <td>900</td>\n",
       "      <td>812500.0</td>\n",
       "    </tr>\n",
       "    <tr>\n",
       "      <th>8</th>\n",
       "      <td>250.0</td>\n",
       "      <td>125.0</td>\n",
       "      <td>1000</td>\n",
       "      <td>875000.0</td>\n",
       "    </tr>\n",
       "    <tr>\n",
       "      <th>9</th>\n",
       "      <td>225.0</td>\n",
       "      <td>162.5</td>\n",
       "      <td>1100</td>\n",
       "      <td>937500.0</td>\n",
       "    </tr>\n",
       "    <tr>\n",
       "      <th>10</th>\n",
       "      <td>200.0</td>\n",
       "      <td>200.0</td>\n",
       "      <td>1200</td>\n",
       "      <td>1000000.0</td>\n",
       "    </tr>\n",
       "    <tr>\n",
       "      <th>11</th>\n",
       "      <td>175.0</td>\n",
       "      <td>237.5</td>\n",
       "      <td>1300</td>\n",
       "      <td>1062500.0</td>\n",
       "    </tr>\n",
       "    <tr>\n",
       "      <th>12</th>\n",
       "      <td>150.0</td>\n",
       "      <td>275.0</td>\n",
       "      <td>1400</td>\n",
       "      <td>1125000.0</td>\n",
       "    </tr>\n",
       "    <tr>\n",
       "      <th>13</th>\n",
       "      <td>125.0</td>\n",
       "      <td>312.5</td>\n",
       "      <td>1500</td>\n",
       "      <td>1187500.0</td>\n",
       "    </tr>\n",
       "    <tr>\n",
       "      <th>14</th>\n",
       "      <td>100.0</td>\n",
       "      <td>350.0</td>\n",
       "      <td>1600</td>\n",
       "      <td>1250000.0</td>\n",
       "    </tr>\n",
       "    <tr>\n",
       "      <th>15</th>\n",
       "      <td>50.0</td>\n",
       "      <td>400.0</td>\n",
       "      <td>1700</td>\n",
       "      <td>1300000.0</td>\n",
       "    </tr>\n",
       "    <tr>\n",
       "      <th>16</th>\n",
       "      <td>0.0</td>\n",
       "      <td>450.0</td>\n",
       "      <td>1800</td>\n",
       "      <td>1350000.0</td>\n",
       "    </tr>\n",
       "    <tr>\n",
       "      <th>17</th>\n",
       "      <td>0.0</td>\n",
       "      <td>450.0</td>\n",
       "      <td>1900</td>\n",
       "      <td>1350000.0</td>\n",
       "    </tr>\n",
       "    <tr>\n",
       "      <th>18</th>\n",
       "      <td>0.0</td>\n",
       "      <td>450.0</td>\n",
       "      <td>2000</td>\n",
       "      <td>1350000.0</td>\n",
       "    </tr>\n",
       "    <tr>\n",
       "      <th>19</th>\n",
       "      <td>0.0</td>\n",
       "      <td>450.0</td>\n",
       "      <td>2100</td>\n",
       "      <td>1350000.0</td>\n",
       "    </tr>\n",
       "    <tr>\n",
       "      <th>20</th>\n",
       "      <td>0.0</td>\n",
       "      <td>450.0</td>\n",
       "      <td>2200</td>\n",
       "      <td>1350000.0</td>\n",
       "    </tr>\n",
       "  </tbody>\n",
       "</table>\n",
       "</div>"
      ],
      "text/plain": [
       "    Wheat   Corn  fertilizers    profits\n",
       "0   100.0    0.0          200   200000.0\n",
       "1   150.0    0.0          300   300000.0\n",
       "2   200.0    0.0          400   400000.0\n",
       "3   250.0    0.0          500   500000.0\n",
       "4   300.0    0.0          600   600000.0\n",
       "5   325.0   12.5          700   687500.0\n",
       "6   300.0   50.0          800   750000.0\n",
       "7   275.0   87.5          900   812500.0\n",
       "8   250.0  125.0         1000   875000.0\n",
       "9   225.0  162.5         1100   937500.0\n",
       "10  200.0  200.0         1200  1000000.0\n",
       "11  175.0  237.5         1300  1062500.0\n",
       "12  150.0  275.0         1400  1125000.0\n",
       "13  125.0  312.5         1500  1187500.0\n",
       "14  100.0  350.0         1600  1250000.0\n",
       "15   50.0  400.0         1700  1300000.0\n",
       "16    0.0  450.0         1800  1350000.0\n",
       "17    0.0  450.0         1900  1350000.0\n",
       "18    0.0  450.0         2000  1350000.0\n",
       "19    0.0  450.0         2100  1350000.0\n",
       "20    0.0  450.0         2200  1350000.0"
      ]
     },
     "execution_count": 82,
     "metadata": {},
     "output_type": "execute_result"
    }
   ],
   "source": [
    "table"
   ]
  },
  {
   "cell_type": "markdown",
   "metadata": {},
   "source": [
    "## Question 3:"
   ]
  },
  {
   "cell_type": "code",
   "execution_count": 177,
   "metadata": {},
   "outputs": [],
   "source": [
    "obj = np.array([13,16,16,14,39]) # objective vector\n",
    "\n",
    "A = np.zeros((7,5)) # initialize constraint matrix\n",
    "\n",
    "A[0,:] = [11,53,5,5,29] # corn serving constraint\n",
    "A[1,:] = [3,6,5,1,34] # milk constraint\n",
    "A[2,:] = [1,0,0,0,0] # bread constraint\n",
    "A[3,:] = [0,1,0,0,0] # vitamin constraint\n",
    "A[4,:] = [0,0,1,0,0] # calories constraint\n",
    "A[5,:] = [0,0,0,1,0] # vitamin constraint\n",
    "A[6,:] = [0,0,0,0,1] # vitamin constraint\n",
    "\n",
    "\n",
    "b = np.array([40,20,1,1,1,1,1]) # limits on production, storage, and demand\n",
    "sense = np.array(['<','<','<','<','<','<','<'])\n",
    "\n",
    "\n",
    "ojModel = gp.Model() # initialize an empty model\n",
    "\n",
    "ojModX = ojModel.addMVar(5) # tell the model how many variables there are\n",
    "# must define the variables before adding constraints because variables go into the constraints\n",
    "ojModCon = ojModel.addMConstrs(A, ojModX, sense, b) # add the constraints to the model\n",
    "ojModel.setMObjective(None,obj,0,sense=gp.GRB.MAXIMIZE) # add the objective to the model\n",
    "ojModel.Params.OutputFlag = 0 # tell gurobi to shut up!!"
   ]
  },
  {
   "cell_type": "code",
   "execution_count": 178,
   "metadata": {},
   "outputs": [],
   "source": [
    "ojModel.optimize()"
   ]
  },
  {
   "cell_type": "code",
   "execution_count": 179,
   "metadata": {},
   "outputs": [
    {
     "data": {
      "text/plain": [
       "57.449017199017206"
      ]
     },
     "execution_count": 179,
     "metadata": {},
     "output_type": "execute_result"
    }
   ],
   "source": [
    "ojModel.objVal"
   ]
  },
  {
   "cell_type": "code",
   "execution_count": 180,
   "metadata": {},
   "outputs": [
    {
     "data": {
      "text/plain": [
       "array([1.        , 0.20085995, 1.        , 1.        , 0.28808354])"
      ]
     },
     "execution_count": 180,
     "metadata": {},
     "output_type": "execute_result"
    }
   ],
   "source": [
    "ojModX.x"
   ]
  },
  {
   "cell_type": "code",
   "execution_count": null,
   "metadata": {},
   "outputs": [],
   "source": []
  },
  {
   "cell_type": "markdown",
   "metadata": {},
   "source": [
    "## Question 4:"
   ]
  },
  {
   "cell_type": "code",
   "execution_count": 166,
   "metadata": {},
   "outputs": [],
   "source": [
    "obj = np.array([0.18,0.23,0.05]) # objective vector\n",
    "\n",
    "A = np.zeros((7,3)) # initialize constraint matrix\n",
    "\n",
    "A[0,:] = [1,0,0] # corn serving constraint\n",
    "A[1,:] = [0,1,0] # milk constraint\n",
    "A[2,:] = [0,0,1] # bread constraint\n",
    "A[3,:] = [72,121,65] # vitamin constraint\n",
    "\n",
    "A[4,:] = [107,500,0] # calories constraint\n",
    "\n",
    "A[5,:] = [72,121,65] # vitamin constraint\n",
    "\n",
    "A[6,:] = [107,500,0] # vitamin constraint\n",
    "\n",
    "\n",
    "b = np.array([10,10,10,2250,50000,2000,5000]) # limits on production, storage, and demand\n",
    "sense = np.array(['<','<','<','<','<','>','>'])\n",
    "\n",
    "\n",
    "ojModel = gp.Model() # initialize an empty model\n",
    "\n",
    "ojModX = ojModel.addMVar(3) # tell the model how many variables there are\n",
    "# must define the variables before adding constraints because variables go into the constraints\n",
    "ojModCon = ojModel.addMConstrs(A, ojModX, sense, b) # add the constraints to the model\n",
    "ojModel.setMObjective(None,obj,0,sense=gp.GRB.MINIMIZE) # add the objective to the model\n",
    "ojModel.Params.OutputFlag = 0 # tell gurobi to shut up!!"
   ]
  },
  {
   "cell_type": "code",
   "execution_count": 167,
   "metadata": {},
   "outputs": [],
   "source": [
    "ojModel.optimize()"
   ]
  },
  {
   "cell_type": "code",
   "execution_count": 168,
   "metadata": {},
   "outputs": [
    {
     "data": {
      "text/plain": [
       "3.1500000000000004"
      ]
     },
     "execution_count": 168,
     "metadata": {},
     "output_type": "execute_result"
    }
   ],
   "source": [
    "ojModel.objVal"
   ]
  },
  {
   "cell_type": "code",
   "execution_count": 169,
   "metadata": {},
   "outputs": [
    {
     "data": {
      "text/plain": [
       "array([ 1.94444444, 10.        , 10.        ])"
      ]
     },
     "execution_count": 169,
     "metadata": {},
     "output_type": "execute_result"
    }
   ],
   "source": [
    "ojModX.x"
   ]
  },
  {
   "cell_type": "code",
   "execution_count": null,
   "metadata": {},
   "outputs": [],
   "source": []
  },
  {
   "cell_type": "markdown",
   "metadata": {},
   "source": [
    "## Question 5:"
   ]
  },
  {
   "cell_type": "code",
   "execution_count": 171,
   "metadata": {},
   "outputs": [],
   "source": [
    "obj = np.array([1,1.3,1.4,1,1.2,1.6]) # objective vector\n",
    "\n",
    "A = np.zeros((8,6)) # initialize constraint matrix\n",
    "\n",
    "A[0,:] = [1,1,1,0,0,0] # Unit 1 acre constraint\n",
    "A[1,:] = [0,0,0,1,1,1] # Unit 2 acre constraint\n",
    "A[2,:] = [1,0,0,1,0,0] # Year 1 wood constraint\n",
    "A[3,:] = [0,1.3,0,0,1.2,0] # Year 2 wood constraint\n",
    "A[4,:] = [0,0,1.4,0,0,1.6] # Year 3 wood constraint\n",
    "A[5,:] = [1,0,0,1,0,0] # Year 1 wood constraint\n",
    "A[6,:] = [0,1.3,0,0,1.2,0] # Year 2 wood constraint\n",
    "A[7,:] = [0,0,1.4,0,0,1.6] # Year 3 wood constraint\n",
    "\n",
    "\n",
    "\n",
    "b = np.array([2,3,2,2,3,1.2,1.5,2]) # limits on production, storage, and demand\n",
    "sense = np.array(['<','<','<','<','<','>','>','>'])\n",
    "\n",
    "\n",
    "ojModel = gp.Model() # initialize an empty model\n",
    "\n",
    "ojModX = ojModel.addMVar(6) # tell the model how many variables there are\n",
    "# must define the variables before adding constraints because variables go into the constraints\n",
    "ojModCon = ojModel.addMConstrs(A, ojModX, sense, b) # add the constraints to the model\n",
    "ojModel.setMObjective(None,obj,0,sense=gp.GRB.MAXIMIZE) # add the objective to the model\n",
    "\n",
    "ojModel.Params.OutputFlag = 0 # tell gurobi to shut up!!\n",
    "\n"
   ]
  },
  {
   "cell_type": "code",
   "execution_count": 172,
   "metadata": {},
   "outputs": [],
   "source": [
    "ojModel.optimize()"
   ]
  },
  {
   "cell_type": "code",
   "execution_count": 173,
   "metadata": {},
   "outputs": [
    {
     "data": {
      "text/plain": [
       "6.586538461538462"
      ]
     },
     "execution_count": 173,
     "metadata": {},
     "output_type": "execute_result"
    }
   ],
   "source": [
    "ojModel.objVal"
   ]
  },
  {
   "cell_type": "code",
   "execution_count": 174,
   "metadata": {},
   "outputs": [
    {
     "data": {
      "text/plain": [
       "array([0.46153846, 1.53846154, 0.        , 1.125     , 0.        ,\n",
       "       1.875     ])"
      ]
     },
     "execution_count": 174,
     "metadata": {},
     "output_type": "execute_result"
    }
   ],
   "source": [
    "ojModX.x"
   ]
  },
  {
   "cell_type": "code",
   "execution_count": null,
   "metadata": {},
   "outputs": [],
   "source": []
  }
 ],
 "metadata": {
  "kernelspec": {
   "display_name": "Python 3",
   "language": "python",
   "name": "python3"
  },
  "language_info": {
   "codemirror_mode": {
    "name": "ipython",
    "version": 3
   },
   "file_extension": ".py",
   "mimetype": "text/x-python",
   "name": "python",
   "nbconvert_exporter": "python",
   "pygments_lexer": "ipython3",
   "version": "3.7.6"
  }
 },
 "nbformat": 4,
 "nbformat_minor": 4
}
