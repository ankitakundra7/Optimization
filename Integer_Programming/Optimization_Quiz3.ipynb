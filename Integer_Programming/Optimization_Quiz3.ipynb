{
 "cells": [
  {
   "cell_type": "code",
   "execution_count": 3,
   "metadata": {},
   "outputs": [],
   "source": [
    "import numpy as np\n",
    "import gurobipy as gp"
   ]
  },
  {
   "cell_type": "markdown",
   "metadata": {},
   "source": [
    "### Question 2:"
   ]
  },
  {
   "cell_type": "code",
   "execution_count": 4,
   "metadata": {},
   "outputs": [],
   "source": [
    "obj = np.array([9,5,6,4])\n",
    "A = np.zeros((3,4))\n",
    "A[0,:] = [6,3,5,2]\n",
    "A[1,:] = [0,0,1,1]\n",
    "A[2,:] = [1,1,0,0]\n",
    "sense = ['<','<','>']\n",
    "b = np.array([11,1,1])"
   ]
  },
  {
   "cell_type": "code",
   "execution_count": 5,
   "metadata": {},
   "outputs": [
    {
     "name": "stdout",
     "output_type": "stream",
     "text": [
      "Restricted license - for non-production use only - expires 2022-01-13\n"
     ]
    }
   ],
   "source": [
    "ipMod = gp.Model()\n",
    "ipMod_x = ipMod.addMVar(4,vtype=['B']*4) # 'C' or 'I' or 'B'\n",
    "ipMod_con = ipMod.addMConstrs(A, ipMod_x, sense, b)\n",
    "ipMod.setMObjective(None,obj,0,sense=gp.GRB.MAXIMIZE)\n",
    "\n",
    "ipMod.Params.OutputFlag = 0 # tell gurobi to shut up!!\n",
    "ipMod.optimize()"
   ]
  },
  {
   "cell_type": "code",
   "execution_count": 6,
   "metadata": {},
   "outputs": [
    {
     "data": {
      "text/plain": [
       "array([1., 1., 0., 1.])"
      ]
     },
     "execution_count": 6,
     "metadata": {},
     "output_type": "execute_result"
    }
   ],
   "source": [
    "ipMod_x.x"
   ]
  },
  {
   "cell_type": "code",
   "execution_count": null,
   "metadata": {},
   "outputs": [],
   "source": []
  },
  {
   "cell_type": "markdown",
   "metadata": {},
   "source": [
    "### Question 3:"
   ]
  },
  {
   "cell_type": "code",
   "execution_count": 11,
   "metadata": {},
   "outputs": [],
   "source": [
    "obj = np.array([1]*12)"
   ]
  },
  {
   "cell_type": "code",
   "execution_count": 12,
   "metadata": {},
   "outputs": [],
   "source": [
    "A = np.zeros((11,12))\n",
    "A[0,:] = [0,0,1,0,1,0,1,1,1,0,0,0]\n",
    "A[1,:] = [0,0,0,0,0,0,0,1,1,0,0,0]\n",
    "A[2,:] = [1,0,0,0,0,0,1,1,1,0,0,0]\n",
    "A[3,:] = [0,0,0,0,0,0,0,0,0,1,0,0]\n",
    "A[4,:] = [1,1,0,0,0,0,0,0,0,0,0,0]\n",
    "A[5,:] = [0,0,0,0,0,0,0,0,0,1,1,0]\n",
    "A[6,:] = [1,0,1,0,1,0,0,0,0,0,0,0]\n",
    "A[7,:] = [1,1,1,0,0,0,0,0,1,0,0,0]\n",
    "A[8,:] = [1,1,1,0,0,0,0,1,0,0,0,0]\n",
    "A[9,:] = [0,0,0,1,0,1,0,0,0,0,1,1]\n",
    "A[10,:]= [0,0,0,0,0,1,0,0,0,1,0,1]\n",
    "\n",
    "sense = ['>']*11\n",
    "b = np.array([1]*11)"
   ]
  },
  {
   "cell_type": "code",
   "execution_count": 13,
   "metadata": {},
   "outputs": [],
   "source": [
    "ipMod = gp.Model()\n",
    "ipMod_x = ipMod.addMVar(12,vtype=['B']*12) # 'C' or 'I' or 'B'\n",
    "ipMod_con = ipMod.addMConstrs(A, ipMod_x, sense, b)\n",
    "ipMod.setMObjective(None,obj,0,sense=gp.GRB.MINIMIZE)\n",
    "\n",
    "ipMod.Params.OutputFlag = 0 # tell gurobi to shut up!!\n",
    "ipMod.optimize()"
   ]
  },
  {
   "cell_type": "code",
   "execution_count": 14,
   "metadata": {},
   "outputs": [
    {
     "data": {
      "text/plain": [
       "array([1., 0., 0., 0., 0., 0., 0., 0., 1., 1., 0., 1.])"
      ]
     },
     "execution_count": 14,
     "metadata": {},
     "output_type": "execute_result"
    }
   ],
   "source": [
    "ipMod_x.x"
   ]
  },
  {
   "cell_type": "code",
   "execution_count": null,
   "metadata": {},
   "outputs": [],
   "source": []
  },
  {
   "cell_type": "markdown",
   "metadata": {},
   "source": [
    "### Question 4:"
   ]
  },
  {
   "cell_type": "code",
   "execution_count": 76,
   "metadata": {},
   "outputs": [],
   "source": [
    "obj = np.array([20,8,16,4,9,12,21])"
   ]
  },
  {
   "cell_type": "code",
   "execution_count": 77,
   "metadata": {},
   "outputs": [],
   "source": [
    "A = np.zeros((3,7))\n",
    "A[0,:] = [4,3,2,1,0,0,1]\n",
    "A[1,:] = [0,1,0,1,3,0,2]\n",
    "A[2,:] = [0,0,1,1,0,2,0]\n",
    "\n",
    "sense = ['>','>','>']\n",
    "b = np.array([233,148,106])"
   ]
  },
  {
   "cell_type": "code",
   "execution_count": 78,
   "metadata": {},
   "outputs": [],
   "source": [
    "ipMod = gp.Model()\n",
    "ipMod_x = ipMod.addMVar(7,vtype=['I']*7) # 'C' or 'I' or 'B'\n",
    "ipMod_con = ipMod.addMConstrs(A, ipMod_x, sense, b)\n",
    "ipMod.setMObjective(None,obj,0,sense=gp.GRB.MINIMIZE)\n",
    "\n",
    "ipMod.Params.OutputFlag = 0 # tell gurobi to shut up!!\n",
    "ipMod.optimize()"
   ]
  },
  {
   "cell_type": "code",
   "execution_count": 79,
   "metadata": {},
   "outputs": [
    {
     "data": {
      "text/plain": [
       "array([  0.,  42.,  -0., 107.,  -0.,  -0.,  -0.])"
      ]
     },
     "execution_count": 79,
     "metadata": {},
     "output_type": "execute_result"
    }
   ],
   "source": [
    "ipMod_x.x"
   ]
  },
  {
   "cell_type": "code",
   "execution_count": 80,
   "metadata": {},
   "outputs": [
    {
     "data": {
      "text/plain": [
       "764.0"
      ]
     },
     "execution_count": 80,
     "metadata": {},
     "output_type": "execute_result"
    }
   ],
   "source": [
    "ipMod.objVal"
   ]
  },
  {
   "cell_type": "markdown",
   "metadata": {},
   "source": [
    "### Question 5:"
   ]
  },
  {
   "cell_type": "code",
   "execution_count": 62,
   "metadata": {},
   "outputs": [],
   "source": [
    "obj = np.array([330, 300, 330, 360, 360, 360, 360])"
   ]
  },
  {
   "cell_type": "code",
   "execution_count": 63,
   "metadata": {},
   "outputs": [],
   "source": [
    "A = np.zeros((7,7))\n",
    "A[0,:] = [1,0,0,1,1,1,1]\n",
    "A[1,:] = [1,1,0,0,1,1,1]\n",
    "A[2,:] = [1,1,1,0,0,1,1]\n",
    "A[3,:] = [1,1,1,1,0,0,1]\n",
    "A[4,:] = [1,1,1,1,1,0,0]\n",
    "A[5,:] = [0,1,1,1,1,1,0]\n",
    "A[6,:] = [0,0,1,1,1,1,1]\n",
    "\n",
    "\n",
    "sense = ['>']*7\n",
    "b = np.array([5,13,12,10,14,8,6])"
   ]
  },
  {
   "cell_type": "code",
   "execution_count": 64,
   "metadata": {},
   "outputs": [],
   "source": [
    "ipMod = gp.Model()\n",
    "ipMod_x = ipMod.addMVar(7,vtype=['I']*7) # 'C' or 'I' or 'B'\n",
    "ipMod_con = ipMod.addMConstrs(A, ipMod_x, sense, b)\n",
    "ipMod.setMObjective(None,obj,0,sense=gp.GRB.MINIMIZE)\n",
    "\n",
    "ipMod.Params.OutputFlag = 0 # tell gurobi to shut up!!\n",
    "ipMod.optimize()"
   ]
  },
  {
   "cell_type": "code",
   "execution_count": 65,
   "metadata": {},
   "outputs": [
    {
     "data": {
      "text/plain": [
       "array([ 1.,  8.,  2., -0.,  3.,  1., -0.])"
      ]
     },
     "execution_count": 65,
     "metadata": {},
     "output_type": "execute_result"
    }
   ],
   "source": [
    "ipMod_x.x"
   ]
  },
  {
   "cell_type": "code",
   "execution_count": null,
   "metadata": {},
   "outputs": [],
   "source": []
  }
 ],
 "metadata": {
  "kernelspec": {
   "display_name": "Python 3",
   "language": "python",
   "name": "python3"
  },
  "language_info": {
   "codemirror_mode": {
    "name": "ipython",
    "version": 3
   },
   "file_extension": ".py",
   "mimetype": "text/x-python",
   "name": "python",
   "nbconvert_exporter": "python",
   "pygments_lexer": "ipython3",
   "version": "3.7.6"
  }
 },
 "nbformat": 4,
 "nbformat_minor": 4
}
