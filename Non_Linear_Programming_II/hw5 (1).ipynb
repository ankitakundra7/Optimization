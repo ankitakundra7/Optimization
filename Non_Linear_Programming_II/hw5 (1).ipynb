{
 "cells": [
  {
   "cell_type": "code",
   "execution_count": 3,
   "metadata": {},
   "outputs": [],
   "source": [
    "import numpy as np\n",
    "import pandas as pd\n",
    "import seaborn as sns   # Why sns?  It's a reference to The West Wing\n",
    "import matplotlib.pyplot as plt  # seaborn is based on matplotlib\n",
    "sns.set(color_codes=True) # adds a nice background to the graphs\n",
    "%matplotlib inline "
   ]
  },
  {
   "cell_type": "code",
   "execution_count": 4,
   "metadata": {},
   "outputs": [],
   "source": [
    "w123 = pd.read_csv('hw5data.csv')"
   ]
  },
  {
   "cell_type": "code",
   "execution_count": 5,
   "metadata": {},
   "outputs": [],
   "source": [
    "w1 = np.array(w123.w1)\n",
    "w2 = np.array(w123.w2)\n",
    "w3 = np.array(w123.w3)"
   ]
  },
  {
   "cell_type": "code",
   "execution_count": 6,
   "metadata": {},
   "outputs": [
    {
     "data": {
      "text/html": [
       "<div>\n",
       "<style scoped>\n",
       "    .dataframe tbody tr th:only-of-type {\n",
       "        vertical-align: middle;\n",
       "    }\n",
       "\n",
       "    .dataframe tbody tr th {\n",
       "        vertical-align: top;\n",
       "    }\n",
       "\n",
       "    .dataframe thead th {\n",
       "        text-align: right;\n",
       "    }\n",
       "</style>\n",
       "<table border=\"1\" class=\"dataframe\">\n",
       "  <thead>\n",
       "    <tr style=\"text-align: right;\">\n",
       "      <th></th>\n",
       "      <th>w1</th>\n",
       "      <th>w2</th>\n",
       "      <th>w3</th>\n",
       "    </tr>\n",
       "  </thead>\n",
       "  <tbody>\n",
       "    <tr>\n",
       "      <th>0</th>\n",
       "      <td>0.804264</td>\n",
       "      <td>-0.279226</td>\n",
       "      <td>0.675103</td>\n",
       "    </tr>\n",
       "    <tr>\n",
       "      <th>1</th>\n",
       "      <td>-0.498909</td>\n",
       "      <td>-0.191620</td>\n",
       "      <td>1.637611</td>\n",
       "    </tr>\n",
       "    <tr>\n",
       "      <th>2</th>\n",
       "      <td>-0.773979</td>\n",
       "      <td>-0.208076</td>\n",
       "      <td>0.174573</td>\n",
       "    </tr>\n",
       "    <tr>\n",
       "      <th>3</th>\n",
       "      <td>1.907634</td>\n",
       "      <td>2.186758</td>\n",
       "      <td>3.022080</td>\n",
       "    </tr>\n",
       "    <tr>\n",
       "      <th>4</th>\n",
       "      <td>-0.642327</td>\n",
       "      <td>0.354942</td>\n",
       "      <td>0.833098</td>\n",
       "    </tr>\n",
       "  </tbody>\n",
       "</table>\n",
       "</div>"
      ],
      "text/plain": [
       "         w1        w2        w3\n",
       "0  0.804264 -0.279226  0.675103\n",
       "1 -0.498909 -0.191620  1.637611\n",
       "2 -0.773979 -0.208076  0.174573\n",
       "3  1.907634  2.186758  3.022080\n",
       "4 -0.642327  0.354942  0.833098"
      ]
     },
     "execution_count": 6,
     "metadata": {},
     "output_type": "execute_result"
    }
   ],
   "source": [
    "w123.head()"
   ]
  },
  {
   "cell_type": "code",
   "execution_count": null,
   "metadata": {},
   "outputs": [],
   "source": []
  },
  {
   "cell_type": "code",
   "execution_count": 162,
   "metadata": {},
   "outputs": [],
   "source": [
    "learnRate = 1e-3\n",
    "epochs = 5000"
   ]
  },
  {
   "cell_type": "code",
   "execution_count": 163,
   "metadata": {},
   "outputs": [
    {
     "name": "stdout",
     "output_type": "stream",
     "text": [
      "[-0.15907251  0.17263271  0.95832537]\n",
      "0.9840276421237106\n"
     ]
    }
   ],
   "source": [
    "\n",
    "GDobj = np.zeros(epochs)\n",
    "xyz = np.zeros(3)\n",
    "for ep in range(epochs):\n",
    "    \n",
    "    \n",
    "    grad0 = np.mean(np.exp(w1*xyz[0]+w2*xyz[1])*((xyz[2]-w3)**2)*w1)\n",
    "    grad1 = np.mean(np.exp(w1*xyz[0]+w2*xyz[1])*((xyz[2]-w3)**2)*w2)\n",
    "    grad2 = np.mean(np.exp(w1*xyz[0]+w2*xyz[1])*(2*(xyz[2]-w3)))\n",
    "    grad = np.array([grad0,grad1,grad2])\n",
    "    \n",
    "    xyz -= learnRate*grad\n",
    "    GDobj[ep] = np.mean(np.exp(w1*xyz[0]+w2*xyz[1])*(xyz[2]-w3)**2)\n",
    "    \n",
    "\n",
    "print(xyz)\n",
    "print(GDobj[ep])"
   ]
  },
  {
   "cell_type": "code",
   "execution_count": null,
   "metadata": {},
   "outputs": [],
   "source": []
  },
  {
   "cell_type": "code",
   "execution_count": 137,
   "metadata": {},
   "outputs": [
    {
     "data": {
      "image/png": "[encoded data removed]",
      "text/plain": [
       "<Figure size 432x288 with 1 Axes>"
      ]
     },
     "metadata": {
      "needs_background": "light"
     },
     "output_type": "display_data"
    }
   ],
   "source": [
    "df = pd.DataFrame({'Obj': GDobj})\n",
    "sns.lineplot(data=df);"
   ]
  },
  {
   "cell_type": "code",
   "execution_count": 174,
   "metadata": {},
   "outputs": [],
   "source": [
    "epochs = 100\n",
    "dat_per_bat = 10\n",
    "batches = int(ndata/dat_per_bat)"
   ]
  },
  {
   "cell_type": "code",
   "execution_count": 175,
   "metadata": {},
   "outputs": [
    {
     "name": "stdout",
     "output_type": "stream",
     "text": [
      "0.9850792803054618\n"
     ]
    }
   ],
   "source": [
    "\n",
    "SGDobj = np.zeros(epochs)\n",
    "xyz = np.zeros(3)\n",
    "np.random.seed(4382)\n",
    "for ep in range(epochs):\n",
    "    shuf = np.random.choice(range(ndata),size=ndata,replace=False)\n",
    "    for bat in range(batches):\n",
    "        this_bat = shuf[(bat*dat_per_bat):((bat+1)*dat_per_bat)]\n",
    "        \n",
    "\n",
    "        grad0 = np.mean(np.exp(w1[this_bat]*xyz[0]+w2[this_bat]*xyz[1])*((xyz[2]-w3[this_bat])**2)*w1[this_bat])\n",
    "        grad1 = np.mean(np.exp(w1[this_bat]*xyz[0]+w2[this_bat]*xyz[1])*((xyz[2]-w3[this_bat])**2)*w2[this_bat])\n",
    "        grad2 = np.mean(np.exp(w1[this_bat]*xyz[0]+w2[this_bat]*xyz[1])*(2*(xyz[2]-w3[this_bat])))\n",
    "        grad = np.array([grad0,grad1,grad2])\n",
    "        xyz -= learnRate*grad\n",
    "\n",
    "    SGDobj[ep] = np.mean(np.exp(w1*xyz[0]+w2*xyz[1])*(xyz[2]-w3)**2)\n",
    "print(SGDobj[ep])\n"
   ]
  },
  {
   "cell_type": "code",
   "execution_count": null,
   "metadata": {},
   "outputs": [],
   "source": []
  },
  {
   "cell_type": "code",
   "execution_count": 176,
   "metadata": {},
   "outputs": [],
   "source": [
    "theta1 = 0.9\n",
    "theta2 = 0.999\n",
    "e=1e-12"
   ]
  },
  {
   "cell_type": "code",
   "execution_count": 186,
   "metadata": {},
   "outputs": [
    {
     "name": "stdout",
     "output_type": "stream",
     "text": [
      "0.9841775599579625\n"
     ]
    }
   ],
   "source": [
    "epochs = 150\n",
    "ADAMobj = np.zeros(epochs)\n",
    "xyz = np.zeros(3)\n",
    "k = 1\n",
    "m = np.zeros(3)\n",
    "v = np.zeros(3)\n",
    "np.random.seed(11492)\n",
    "for ep in range(epochs):\n",
    "    shuf = np.random.choice(range(ndata),size=ndata,replace=False)\n",
    "    for bat in range(batches):\n",
    "        this_bat = shuf[(bat*dat_per_bat):((bat+1)*dat_per_bat)]\n",
    "        \n",
    "\n",
    "        grad0 = np.mean(np.exp(w1[this_bat]*xyz[0]+w2[this_bat]*xyz[1])*((xyz[2]-w3[this_bat])**2)*w1[this_bat])\n",
    "        grad1 = np.mean(np.exp(w1[this_bat]*xyz[0]+w2[this_bat]*xyz[1])*((xyz[2]-w3[this_bat])**2)*w2[this_bat])\n",
    "        grad2 = np.mean(np.exp(w1[this_bat]*xyz[0]+w2[this_bat]*xyz[1])*(2*(xyz[2]-w3[this_bat])))\n",
    "        grad = np.array([grad0,grad1,grad2])\n",
    "        \n",
    "        m = theta1*m + (1-theta1)*grad\n",
    "        mhat = m/(1-theta1**k)\n",
    "        \n",
    "        v = theta2*v + (1-theta2)*(grad**2)\n",
    "        vhat = v/(1-theta2**k)\n",
    "\n",
    "        xyz -= learnRate*mhat/(np.sqrt(vhat)+e)\n",
    "        k += 1\n",
    "\n",
    "    \n",
    "    ADAMobj[ep] = np.mean(np.exp(w1*xyz[0]+w2*xyz[1])*(xyz[2]-w3)**2)\n",
    "print(ADAMobj[ep])"
   ]
  },
  {
   "cell_type": "code",
   "execution_count": null,
   "metadata": {},
   "outputs": [],
   "source": []
  }
 ],
 "metadata": {
  "kernelspec": {
   "display_name": "Python 3",
   "language": "python",
   "name": "python3"
  },
  "language_info": {
   "codemirror_mode": {
    "name": "ipython",
    "version": 3
   },
   "file_extension": ".py",
   "mimetype": "text/x-python",
   "name": "python",
   "nbconvert_exporter": "python",
   "pygments_lexer": "ipython3",
   "version": "3.7.6"
  }
 },
 "nbformat": 4,
 "nbformat_minor": 2
}
